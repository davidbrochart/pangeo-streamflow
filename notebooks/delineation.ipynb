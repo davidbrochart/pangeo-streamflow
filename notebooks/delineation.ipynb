{
 "cells": [
  {
   "cell_type": "code",
   "execution_count": null,
   "metadata": {},
   "outputs": [],
   "source": [
    "import sys\n",
    "sys.path.append('../python')\n",
    "from hydromap import Control\n",
    "from delineate import delineate\n",
    "from misc import get_precipitation, get_pet\n",
    "\n",
    "import pandas as pd\n",
    "from ipyleaflet import Map, Marker\n",
    "import ipywidgets as widgets\n",
    "from IPython.display import display"
   ]
  },
  {
   "cell_type": "code",
   "execution_count": null,
   "metadata": {
    "scrolled": false
   },
   "outputs": [],
   "source": [
    "center = (-10, -60)\n",
    "zoom = 4\n",
    "m = Map(center=center, zoom=zoom, interpolation='nearest')\n",
    "m"
   ]
  },
  {
   "cell_type": "code",
   "execution_count": null,
   "metadata": {},
   "outputs": [],
   "source": [
    "message = widgets.Label()\n",
    "display(message)\n",
    "control = Control(m, message)\n",
    "widgets.interact(control.show, width=widgets.FloatSlider(min=3/1200,max=0.1,step=1/1200,value=0.05))\n",
    "widgets.interact(control.show, elevation=widgets.BoundedIntText(min=0,max=10000,step=1,value=0, description='Flood elevation:', disabled=False))\n",
    "m.on_interaction(control.show)"
   ]
  },
  {
   "cell_type": "markdown",
   "metadata": {},
   "source": [
    "# Right-click menu\n",
    "A menu pops up when you right-click on a location (in Jupyter Lab, use `shift+right-click` to get rid of Lab's own context menu). It allows you to:\n",
    "- show/hide flow accumulation or elevation. Flow accumulation and elevation are only visible on a square around the mouse position, because it takes too much memory for the browser to show it all, and also because it is context dependent: the color map will fit the range of displayed values. The width of this square can be changed with the slider above (values are in degrees). Please note that the flow accumulation image might not correspond to the rivers you see on the map, especially far from the mouse position, first because they come from different sources, and second because the image is displayed as-is (EPSG:4326) and not reprojected to Web Mercator (EPSG:3857). The difference is small enough near the mouse position anyway, and the purpose of e.g. showing flow accumulation is just to check that you are on a river before delineating a watershsed.\n",
    "- delineate a watershed. Delineation will start at the pixel the mouse is positioned on. You can zoom in until you make sure you are on the river of interest, and you can also check the lat/lon coordinates and flow accumulation numbers displayed above.\n",
    "- delineate a floodplain. Delineation will start at the pixel the mouse is positioned on."
   ]
  },
  {
   "cell_type": "markdown",
   "metadata": {},
   "source": [
    "# Marker\n",
    "\n",
    "Use the following cell to display a marker on the map at a particular location. You can then drag it with the mouse and get its new location back with the next cell."
   ]
  },
  {
   "cell_type": "code",
   "execution_count": null,
   "metadata": {},
   "outputs": [],
   "source": [
    "latlon = -0.6672326905216578, -51.08033180236817 # Amazon outlet\n",
    "marker = Marker(location=latlon)\n",
    "m.add_layer(marker)"
   ]
  },
  {
   "cell_type": "code",
   "execution_count": null,
   "metadata": {},
   "outputs": [],
   "source": [
    "marker.location"
   ]
  },
  {
   "cell_type": "code",
   "execution_count": null,
   "metadata": {},
   "outputs": [],
   "source": [
    "m.remove_layer(marker)"
   ]
  },
  {
   "cell_type": "markdown",
   "metadata": {},
   "source": [
    "If you set a marker with the menu, you can get its position back:"
   ]
  },
  {
   "cell_type": "code",
   "execution_count": null,
   "metadata": {},
   "outputs": [],
   "source": [
    "if flow.marker is not None:\n",
    "    flow.marker.location"
   ]
  },
  {
   "cell_type": "markdown",
   "metadata": {},
   "source": [
    "The following not only delineates the Amazon basin, but it creates a hydrologic partition, including the subbasins whose outlet has a virtual station. The whole thing takes days to compute, but the result has been stored in `pangeo-data/ws_mask/amazon` Google Cloud Storage bucket."
   ]
  },
  {
   "cell_type": "code",
   "execution_count": null,
   "metadata": {},
   "outputs": [],
   "source": [
    "df = pd.read_pickle('../data/amazonas/amazonas.pkl')\n",
    "sub_latlon = df[['new_lat', 'new_lon']].dropna().values\n",
    "\n",
    "lat, lon = -0.6672326905216578, -51.08033180236817 # Amazon outlet\n",
    "delineate(lat, lon, sub_latlon, acc_delta=1_000_000, progress=True)"
   ]
  },
  {
   "cell_type": "code",
   "execution_count": null,
   "metadata": {},
   "outputs": [],
   "source": [
    "d0, d1 = '2000-03-01 12:00:00', '2000-03-01 21:00:00'\n",
    "precipitation = get_precipitation(d0, d1, 'tmp/ds_mask/0', None)"
   ]
  },
  {
   "cell_type": "code",
   "execution_count": null,
   "metadata": {},
   "outputs": [],
   "source": [
    "pet = get_pet(d0, d1, 'tmp/ds_mask/0', None)"
   ]
  },
  {
   "cell_type": "code",
   "execution_count": null,
   "metadata": {},
   "outputs": [],
   "source": [
    "df = pd.DataFrame()\n",
    "df['precipitation'] = precipitation\n",
    "df['pet'] = pet\n",
    "df.plot(figsize=(15, 5))"
   ]
  }
 ],
 "metadata": {
  "kernelspec": {
   "display_name": "Python 3",
   "language": "python",
   "name": "python3"
  },
  "language_info": {
   "codemirror_mode": {
    "name": "ipython",
    "version": 3
   },
   "file_extension": ".py",
   "mimetype": "text/x-python",
   "name": "python",
   "nbconvert_exporter": "python",
   "pygments_lexer": "ipython3",
   "version": "3.7.1"
  }
 },
 "nbformat": 4,
 "nbformat_minor": 2
}
