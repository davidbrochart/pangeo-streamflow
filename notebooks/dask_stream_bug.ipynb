{
 "cells": [
  {
   "cell_type": "code",
   "execution_count": null,
   "metadata": {},
   "outputs": [],
   "source": [
    "import sys\n",
    "sys.path.append('../python')\n",
    "from misc import *\n",
    "\n",
    "import xarray as xr\n",
    "import gcsfs\n",
    "from dask.distributed import Client\n",
    "\n",
    "is_pangeo_data = True # True if in Pangeo binder, False if local\n",
    "if is_pangeo_data:\n",
    "    from dask_kubernetes import KubeCluster as Cluster\n",
    "    n_workers = 10\n",
    "else:\n",
    "    from dask.distributed import LocalCluster as Cluster\n",
    "    n_workers = 4"
   ]
  },
  {
   "cell_type": "code",
   "execution_count": null,
   "metadata": {},
   "outputs": [],
   "source": [
    "cluster = Cluster(n_workers=n_workers)\n",
    "client = Client(cluster)\n",
    "cluster"
   ]
  },
  {
   "cell_type": "code",
   "execution_count": null,
   "metadata": {},
   "outputs": [],
   "source": [
    "ds_mask = xr.open_zarr(gcsfs.GCSMap('pangeo-data/gross/ws_mask/amazonas/0'))\n",
    "d0, d1 = '2000-03-01 12:00:00', '2018-12-31'\n",
    "while True:\n",
    "    p = get_precipitation(d0, d1, ds_mask)"
   ]
  }
 ],
 "metadata": {
  "kernelspec": {
   "display_name": "Python 3",
   "language": "python",
   "name": "python3"
  },
  "language_info": {
   "codemirror_mode": {
    "name": "ipython",
    "version": 3
   },
   "file_extension": ".py",
   "mimetype": "text/x-python",
   "name": "python",
   "nbconvert_exporter": "python",
   "pygments_lexer": "ipython3",
   "version": "3.7.1"
  }
 },
 "nbformat": 4,
 "nbformat_minor": 2
}
