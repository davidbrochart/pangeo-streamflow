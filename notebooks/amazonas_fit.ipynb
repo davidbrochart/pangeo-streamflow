{
 "cells": [
  {
   "cell_type": "code",
   "execution_count": null,
   "metadata": {},
   "outputs": [],
   "source": [
    "import sys\n",
    "sys.path.append('../python')\n",
    "from get_vs import locate_vs\n",
    "from misc import *\n",
    "\n",
    "import pandas as pd\n",
    "from pandas import DataFrame\n",
    "import numpy as np\n",
    "import os\n",
    "from tqdm import tqdm\n",
    "import xarray as xr\n",
    "import gcsfs\n",
    "from dask_kubernetes import KubeCluster\n",
    "from dask.distributed import Client\n",
    "\n",
    "%matplotlib inline"
   ]
  },
  {
   "cell_type": "code",
   "execution_count": null,
   "metadata": {},
   "outputs": [],
   "source": [
    "is_pangeo_data = True # True if in Pangeo binder, False if in laptop"
   ]
  },
  {
   "cell_type": "code",
   "execution_count": null,
   "metadata": {},
   "outputs": [],
   "source": [
    "if is_pangeo_data:\n",
    "    cluster = KubeCluster(n_workers=10)\n",
    "    client = Client(cluster)"
   ]
  },
  {
   "cell_type": "markdown",
   "metadata": {},
   "source": [
    "The coordinates of the virtual stations in [Hydroweb](http://hydroweb.theia-land.fr) don't match with the rivers in [HydroSHEDS](http://www.hydrosheds.org). In order to find the corresponding coordinates in HydroSHEDS, we look around the original position for the pixel with the biggest accumulated flow which is bigger than a minimum flow. If no such flow is found, we look further around, until we find one (but not too far away, in which case we just drop the virtual station). The new_lat/new_lon are the coordinates of this pixel, if found."
   ]
  },
  {
   "cell_type": "code",
   "execution_count": null,
   "metadata": {},
   "outputs": [],
   "source": [
    "if not os.path.exists('../data/amazonas/amazonas.pkl'):\n",
    "    df = locate_vs('../data/amazonas/amazonas.txt', pix_nb=20, acc_min=1_000_000)\n",
    "    df.to_pickle('../data/amazonas/amazonas.pkl')\n",
    "else:\n",
    "    df = pd.read_pickle('../data/amazonas/amazonas.pkl')"
   ]
  },
  {
   "cell_type": "code",
   "execution_count": null,
   "metadata": {},
   "outputs": [],
   "source": [
    "sub_latlon = df[['new_lat', 'new_lon']].dropna().values\n",
    "print(f'Out of {len(df)} virtual stations in Hydroweb, {len(sub_latlon)} could be found in HydroSHEDS.')"
   ]
  },
  {
   "cell_type": "markdown",
   "metadata": {},
   "source": [
    "The following coordinates are duplicated because some virtual stations fall inside the same pixels."
   ]
  },
  {
   "cell_type": "code",
   "execution_count": null,
   "metadata": {},
   "outputs": [],
   "source": [
    "rm_latlon = [(-4.928333333333334, -62.733333333333334), (-3.8666666666666667, -61.6775)]"
   ]
  },
  {
   "cell_type": "code",
   "execution_count": null,
   "metadata": {},
   "outputs": [],
   "source": [
    "df_ll = df[['new_lat', 'new_lon']].dropna()\n",
    "duplicated = df_ll[df_ll.duplicated(keep=False)]\n",
    "duplicated"
   ]
  },
  {
   "cell_type": "code",
   "execution_count": null,
   "metadata": {},
   "outputs": [],
   "source": [
    "assert len(duplicated) / 2 == len(rm_latlon)"
   ]
  },
  {
   "cell_type": "code",
   "execution_count": null,
   "metadata": {},
   "outputs": [],
   "source": [
    "# all the subbasins in the hydrologic partition (including virtual stations)\n",
    "if is_pangeo_data:\n",
    "    gcs_w_token = gcsfs.GCSFileSystem(project='pangeo-data', token='browser')\n",
    "    labels = [os.path.basename(path[:-1]) for path in gcs_w_token.ls('pangeo-data/gross/ws_mask/amazonas')]\n",
    "    #ds_mask = xr.open_zarr(gcsfs.GCSMap('pangeo-data/gross/ws_mask/amazonas'))\n",
    "else:\n",
    "    labels = os.listdir('ws_mask/amazonas')\n",
    "    #ds_mask = xr.open_zarr('ws_mask/amazonas')\n",
    "#labels = list(ds_mask.label.values)\n",
    "len(labels)"
   ]
  },
  {
   "cell_type": "code",
   "execution_count": null,
   "metadata": {},
   "outputs": [],
   "source": [
    "labels_without_vs = list(labels)\n",
    "labels_with_vs = []\n",
    "for label in tqdm(labels):\n",
    "    if is_pangeo_data:\n",
    "        ds = xr.open_zarr(gcsfs.GCSMap(f'pangeo-data/gross/ws_mask/amazonas/{label}'))\n",
    "    else:\n",
    "        ds = xr.open_zarr(f'ws_mask/amazonas/{label}')\n",
    "    da = ds['mask']\n",
    "    olat, olon = da.attrs['outlet']\n",
    "    idx = df_ll[(olat-0.25/1200<df_ll.new_lat.values) & (df_ll.new_lat.values<olat+0.25/1200) & (olon-0.25/1200<df_ll.new_lon.values) & (df_ll.new_lon.values<olon+0.25/1200)].index.values\n",
    "    labels_with_vs.append(label)\n",
    "    if len(idx) > 0:\n",
    "        labels_without_vs.remove(label)"
   ]
  },
  {
   "cell_type": "code",
   "execution_count": null,
   "metadata": {},
   "outputs": [],
   "source": [
    "label_tree = get_label_tree(labels_with_vs)"
   ]
  },
  {
   "cell_type": "code",
   "execution_count": null,
   "metadata": {},
   "outputs": [],
   "source": [
    "d0, d1 = '2000-03-01 12:00:00', '2018-12-31'\n",
    "path_mask = 'gs:pangeo-data/gross/ws_mask/amazonas'\n",
    "precipitation = get_precipitation(d0, d1, path_mask, labels)"
   ]
  },
  {
   "cell_type": "code",
   "execution_count": null,
   "metadata": {},
   "outputs": [],
   "source": [
    "if is_pangeo_data:\n",
    "    gcs = gcsfs.GCSFileSystem(project='pangeo-data', token=gcs_w_token.session.credentials)\n",
    "    path_mask = 'gs:pangeo-data/gross/ws_mask/amazonas'\n",
    "    ds_trmm = xr.open_zarr(gcsfs.GCSMap('pangeo-data/trmm_3b42rt', gcs))\n",
    "    ds_gpm = xr.open_zarr(gcsfs.GCSMap('pangeo-data/gpm_imerg_early', gcs))\n",
    "    ds_pet = xr.open_zarr(gcsfs.GCSMap('pangeo-data/cgiar_pet', gcs))\n",
    "else:\n",
    "    mask_path = 'ws_mask/amazonas'"
   ]
  },
  {
   "cell_type": "code",
   "execution_count": null,
   "metadata": {},
   "outputs": [],
   "source": [
    "for label in labels:\n",
    "    labels_done = [os.path.basename(path[:-1]) for path in gcs_w_token.ls('pangeo-data/gross/ws_precipitations/amazonas')]\n",
    "    if label not in labels_done:\n",
    "        gcs = gcsfs.GCSFileSystem(project='pangeo-data', token=gcs_w_token.session.credentials)\n",
    "        precipitation = get_precipitation(d0, d1, f'{path_mask}/{label}', ds_trmm, ds_gpm, gcs)\n",
    "        precipitation.to_pickle('precipitation.pkl')\n",
    "        gcs_w_token.put('precipitation.pkl', f'pangeo-data/gross/ws_precipitation/amazonas/{label}.pkl')"
   ]
  },
  {
   "cell_type": "code",
   "execution_count": null,
   "metadata": {},
   "outputs": [],
   "source": [
    "for label in labels:\n",
    "    labels_done = [os.path.basename(path[:-1]) for path in gcs_w_token.ls('pangeo-data/gross/ws_pet/amazonas')]\n",
    "    if label not in labels_done:\n",
    "        gcs = gcsfs.GCSFileSystem(project='pangeo-data', token=gcs_w_token.session.credentials)\n",
    "        pet = get_pet(d0, d1, f'{path_mask}/{label}', ds_pet, gcs)\n",
    "        pet.to_pickle('pet.pkl')\n",
    "        gcs_w_token.put('pet.pkl', f'pangeo-data/gross/ws_pet/amazonas/{label}.pkl')"
   ]
  },
  {
   "cell_type": "code",
   "execution_count": null,
   "metadata": {},
   "outputs": [],
   "source": [
    "label = '0'\n",
    "df = DataFrame()\n",
    "df['precipitation'] = df_precipitation[label]\n",
    "df['pet'] = df_pet[label]\n",
    "df.plot(figsize=(15, 5))"
   ]
  }
 ],
 "metadata": {
  "kernelspec": {
   "display_name": "Python 3",
   "language": "python",
   "name": "python3"
  },
  "language_info": {
   "codemirror_mode": {
    "name": "ipython",
    "version": 3
   },
   "file_extension": ".py",
   "mimetype": "text/x-python",
   "name": "python",
   "nbconvert_exporter": "python",
   "pygments_lexer": "ipython3",
   "version": "3.6.7"
  }
 },
 "nbformat": 4,
 "nbformat_minor": 2
}
