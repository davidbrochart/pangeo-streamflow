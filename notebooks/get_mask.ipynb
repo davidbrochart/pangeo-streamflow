{
 "cells": [
  {
   "cell_type": "code",
   "execution_count": null,
   "metadata": {},
   "outputs": [],
   "source": [
    "import xarray as xr\n",
    "import numpy as np\n",
    "import os\n",
    "from tqdm import tqdm\n",
    "import gcsfs"
   ]
  },
  {
   "cell_type": "code",
   "execution_count": null,
   "metadata": {},
   "outputs": [],
   "source": [
    "def get_mask(mask_path, labels):\n",
    "    pix_deg_flow = 1 / 1200\n",
    "    das = []\n",
    "    lat0, lat1, lon0, lon1 = -np.inf, np.inf, np.inf, -np.inf\n",
    "    for label in tqdm(labels):\n",
    "        ds = xr.open_zarr(gcsfs.GCSMap(f'{mask_path}/{label}'))\n",
    "        da = ds['mask'].compute()\n",
    "        das.append(da)\n",
    "        lat0 = max(lat0, da.lat.values[0])\n",
    "        lat1 = min(lat1, da.lat.values[-1])\n",
    "        lon0 = min(lon0, da.lon.values[0])\n",
    "        lon1 = max(lon1, da.lon.values[-1])\n",
    "    nlat = int(round((lat0 - lat1) / pix_deg_flow + 1))\n",
    "    nlon = int(round((lon1 - lon0) / pix_deg_flow + 1))\n",
    "    tolerance = pix_deg_flow / 10\n",
    "    lat = np.arange(lat0, lat1-tolerance, -pix_deg_flow)\n",
    "    lon = np.arange(lon0, lon1+tolerance, pix_deg_flow)\n",
    "    a = np.zeros((nlat, nlon), dtype=np.uint8)\n",
    "    for da in das:\n",
    "        dlat = int(round((lat0 - da.lat.values[0]) / pix_deg_flow))\n",
    "        dlon = int(round((da.lon.values[0] - lon0) / pix_deg_flow))\n",
    "        a[dlat:dlat+da.shape[0], dlon:dlon+da.shape[1]] += da.values\n",
    "    da = xr.DataArray(a, coords=[lat, lon], dims=['lat', 'lon'])\n",
    "    return da"
   ]
  },
  {
   "cell_type": "code",
   "execution_count": null,
   "metadata": {},
   "outputs": [],
   "source": [
    "mask_path = 'pangeo-data/gross/ws_mask/amazonas'\n",
    "fs = gcsfs.GCSFileSystem(project='pangeo-data')\n",
    "labels = [os.path.basename(path[:-1]) for path in fs.ls(mask_path)]\n",
    "len(labels)"
   ]
  },
  {
   "cell_type": "code",
   "execution_count": null,
   "metadata": {},
   "outputs": [],
   "source": [
    "da = get_mask(mask_path, labels)"
   ]
  }
 ],
 "metadata": {
  "kernelspec": {
   "display_name": "Python 3",
   "language": "python",
   "name": "python3"
  },
  "language_info": {
   "codemirror_mode": {
    "name": "ipython",
    "version": 3
   },
   "file_extension": ".py",
   "mimetype": "text/x-python",
   "name": "python",
   "nbconvert_exporter": "python",
   "pygments_lexer": "ipython3",
   "version": "3.6.7"
  }
 },
 "nbformat": 4,
 "nbformat_minor": 2
}
