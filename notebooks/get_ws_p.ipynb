{
 "cells": [
  {
   "cell_type": "code",
   "execution_count": null,
   "metadata": {},
   "outputs": [],
   "source": [
    "import gcsfs\n",
    "import os\n",
    "import xarray as xr\n",
    "from dask.distributed import Client"
   ]
  },
  {
   "cell_type": "code",
   "execution_count": null,
   "metadata": {},
   "outputs": [],
   "source": [
    "is_pangeo_data = False # True if in Pangeo binder, False if in laptop\n",
    "if is_pangeo_data:\n",
    "    from dask_kubernetes import KubeCluster as Cluster\n",
    "    n_workers = 10\n",
    "else:\n",
    "    from dask.distributed import LocalCluster as Cluster\n",
    "    n_workers = 4"
   ]
  },
  {
   "cell_type": "code",
   "execution_count": null,
   "metadata": {},
   "outputs": [],
   "source": [
    "cluster = Cluster(n_workers=n_workers)\n",
    "client = Client(cluster)\n",
    "cluster"
   ]
  },
  {
   "cell_type": "code",
   "execution_count": null,
   "metadata": {},
   "outputs": [],
   "source": [
    "%run ../python/misc.py"
   ]
  },
  {
   "cell_type": "code",
   "execution_count": null,
   "metadata": {},
   "outputs": [],
   "source": [
    "if is_pangeo_data:\n",
    "    mask_path = 'gs://pangeo-data/gross/ws_mask/amazonas'\n",
    "    fs = gcsfs.GCSFileSystem(project='pangeo-data')\n",
    "    all_labels = [os.path.basename(path[:-1]) for path in fs.ls('pangeo-data/gross/ws_mask/amazonas') if os.path.basename(path[:-1]).startswith('0')]\n",
    "else:\n",
    "    mask_path = 'ws_mask/amazonas'\n",
    "    all_labels = [fname for fname in os.listdir('ws_mask/amazonas') if fname.startswith('0')]"
   ]
  },
  {
   "cell_type": "code",
   "execution_count": null,
   "metadata": {},
   "outputs": [],
   "source": [
    "da_trmm_mask = get_trmm_masks(mask_path, all_labels).astype('float32').chunk({'label': 10})\n",
    "da_trmm_mask.to_dataset(name='mask').to_zarr('ws_mask/amazonas/trmm_mask')"
   ]
  },
  {
   "cell_type": "code",
   "execution_count": null,
   "metadata": {},
   "outputs": [],
   "source": [
    "da_gpm_mask = get_gpm_masks(mask_path, all_labels).astype('float32').chunk({'label': 10})\n",
    "da_gpm_mask.to_dataset(name='mask').to_zarr('ws_mask/amazonas/gpm_mask')"
   ]
  },
  {
   "cell_type": "code",
   "execution_count": null,
   "metadata": {},
   "outputs": [],
   "source": [
    "da_pet_mask = get_pet_masks(mask_path, all_labels).astype('float32').chunk({'label': 1})\n",
    "da_pet_mask.to_dataset(name='mask').to_zarr('ws_mask/amazonas/pet_mask')"
   ]
  },
  {
   "cell_type": "code",
   "execution_count": null,
   "metadata": {},
   "outputs": [],
   "source": [
    "# copy to GCS\n",
    "!gsutil -m cp -r ws_mask/amazonas/trmm_mask gs://pangeo-data/gross/ws_mask/amazonas\n",
    "!gsutil -m cp -r ws_mask/amazonas/gpm_mask gs://pangeo-data/gross/ws_mask/amazonas\n",
    "!gsutil -m cp -r ws_mask/amazonas/pet_mask gs://pangeo-data/gross/ws_mask/amazonas"
   ]
  },
  {
   "cell_type": "code",
   "execution_count": null,
   "metadata": {},
   "outputs": [],
   "source": [
    "# this should be run with is_pangeo_data=1\n",
    "if is_pangeo_data:\n",
    "    trmm_mask_path = 'gs://pangeo-data/gross/ws_mask/amazonas/trmm_mask'\n",
    "    gpm_mask_path = 'gs://pangeo-data/gross/ws_mask/amazonas/gpm_mask'\n",
    "    pet_mask_path = 'gs://pangeo-data/gross/ws_mask/amazonas/pet_mask'\n",
    "else:\n",
    "    trmm_mask_path = 'ws_mask/amazonas/trmm_mask'\n",
    "    gpm_mask_path = 'ws_mask/amazonas/gpm_mask'\n",
    "    pet_mask_path = 'ws_mask/amazonas/pet_mask'\n",
    "da_trmm_mask = xr.open_zarr(get_path(trmm_mask_path))['mask']\n",
    "da_gpm_mask = xr.open_zarr(get_path(gpm_mask_path))['mask']\n",
    "da_pet_mask = xr.open_zarr(get_path(pet_mask_path))['mask']\n",
    "d0, d1 = '2000-03-01 12:00:00', '2018-12-31'\n",
    "get_precipitation(d0, d1, da_trmm_mask, da_gpm_mask, 'ws_precipitation/amazonas')"
   ]
  },
  {
   "cell_type": "code",
   "execution_count": null,
   "metadata": {},
   "outputs": [],
   "source": [
    "pet = get_pet(d0, d1, da_pet_mask, 'ws_pet/amazonas')"
   ]
  },
  {
   "cell_type": "code",
   "execution_count": null,
   "metadata": {},
   "outputs": [],
   "source": [
    "# copy to GCS\n",
    "!gsutil -m cp -r ws_precipitation gs://pangeo-data/gross/\n",
    "!gsutil -m cp -r ws_pet gs://pangeo-data/gross/"
   ]
  }
 ],
 "metadata": {
  "kernelspec": {
   "display_name": "Python 3",
   "language": "python",
   "name": "python3"
  },
  "language_info": {
   "codemirror_mode": {
    "name": "ipython",
    "version": 3
   },
   "file_extension": ".py",
   "mimetype": "text/x-python",
   "name": "python",
   "nbconvert_exporter": "python",
   "pygments_lexer": "ipython3",
   "version": "3.7.3"
  }
 },
 "nbformat": 4,
 "nbformat_minor": 4
}
